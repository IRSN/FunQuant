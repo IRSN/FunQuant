{
  "nbformat": 4,
  "nbformat_minor": 0,
  "metadata": {
    "colab": {
      "provenance": [],
      "authorship_tag": "ABX9TyOA86EWm6FsaLRDs5UbCvse",
      "include_colab_link": true
    },
    "kernelspec": {
      "name": "ir",
      "display_name": "R"
    },
    "language_info": {
      "name": "R"
    }
  },
  "cells": [
    {
      "cell_type": "markdown",
      "metadata": {
        "id": "view-in-github",
        "colab_type": "text"
      },
      "source": [
        "<a href=\"https://colab.research.google.com/github/charliesire/FunQuant/blob/main/install_FunQuant.ipynb\" target=\"_parent\"><img src=\"https://colab.research.google.com/assets/colab-badge.svg\" alt=\"Open In Colab\"/></a>"
      ]
    },
    {
      "cell_type": "code",
      "execution_count": null,
      "metadata": {
        "colab": {
          "base_uri": "https://localhost:8080/"
        },
        "id": "fg8ZEhk9Lslv",
        "outputId": "00224795-f4e8-4786-fe89-df20fdeaecaf"
      },
      "outputs": [
        {
          "output_type": "stream",
          "name": "stderr",
          "text": [
            "Downloading GitHub repo CharlieSire/FunQuant@HEAD\n",
            "\n"
          ]
        },
        {
          "output_type": "stream",
          "name": "stdout",
          "text": [
            "GpOutput2D   (NA -> 9f779d33f...) [GitHub]\n",
            "rlibkriging  (NA -> 59e87fd29...) [GitHub]\n",
            "Rcpp         (NA -> 1.0.11      ) [CRAN]\n",
            "terra        (NA -> 1.7-46      ) [CRAN]\n",
            "sp           (NA -> 2.0-0       ) [CRAN]\n",
            "raster       (NA -> 3.6-23      ) [CRAN]\n",
            "iterators    (NA -> 1.0.14      ) [CRAN]\n",
            "RcppArmad... (NA -> 0.12.6.4.0  ) [CRAN]\n",
            "DiceKriging  (NA -> 1.6.0       ) [CRAN]\n",
            "randomForest (NA -> 4.7-1.1     ) [CRAN]\n",
            "dismo        (NA -> 1.3-14      ) [CRAN]\n",
            "foreach      (NA -> 1.5.2       ) [CRAN]\n",
            "waveslim     (NA -> 1.8.4       ) [CRAN]\n",
            "abind        (NA -> 1.4-5       ) [CRAN]\n"
          ]
        },
        {
          "output_type": "stream",
          "name": "stderr",
          "text": [
            "Downloading GitHub repo tranvivielodie/GpOutput2D@HEAD\n",
            "\n"
          ]
        },
        {
          "output_type": "stream",
          "name": "stdout",
          "text": [
            "dotCall64    (NA -> 1.0-2     ) [CRAN]\n",
            "iterators    (NA -> 1.0.14    ) [CRAN]\n",
            "parallelly   (NA -> 1.36.0    ) [CRAN]\n",
            "listenv      (NA -> 0.9.0     ) [CRAN]\n",
            "globals      (NA -> 0.16.2    ) [CRAN]\n",
            "future.apply (NA -> 1.11.0    ) [CRAN]\n",
            "future       (NA -> 1.33.0    ) [CRAN]\n",
            "foreach      (NA -> 1.5.2     ) [CRAN]\n",
            "maps         (NA -> 3.4.1     ) [CRAN]\n",
            "spam         (NA -> 2.9-1     ) [CRAN]\n",
            "Rcpp         (NA -> 1.0.11    ) [CRAN]\n",
            "doFuture     (NA -> 1.0.0     ) [CRAN]\n",
            "doParallel   (NA -> 1.0.17    ) [CRAN]\n",
            "numDeriv     (NA -> 2016.8-1.1) [CRAN]\n",
            "nloptr       (NA -> 2.0.3     ) [CRAN]\n",
            "pracma       (NA -> 2.4.2     ) [CRAN]\n",
            "fields       (NA -> 15.2      ) [CRAN]\n",
            "DiceDesign   (NA -> 1.9       ) [CRAN]\n",
            "lhs          (NA -> 1.1.6     ) [CRAN]\n",
            "kergp        (NA -> 0.5.5     ) [CRAN]\n",
            "DiceKriging  (NA -> 1.6.0     ) [CRAN]\n",
            "orthogona... (NA -> 0.1.7     ) [CRAN]\n",
            "waveslim     (NA -> 1.8.4     ) [CRAN]\n"
          ]
        },
        {
          "output_type": "stream",
          "name": "stderr",
          "text": [
            "Installing 23 packages: dotCall64, iterators, parallelly, listenv, globals, future.apply, future, foreach, maps, spam, Rcpp, doFuture, doParallel, numDeriv, nloptr, pracma, fields, DiceDesign, lhs, kergp, DiceKriging, orthogonalsplinebasis, waveslim\n",
            "\n",
            "Installing packages into ‘/usr/local/lib/R/site-library’\n",
            "(as ‘lib’ is unspecified)\n",
            "\n"
          ]
        }
      ],
      "source": [
        "remotes::install_github(\"CharlieSire/FunQuant\") # when repo will becom public\n",
        "#remotes::install_local(\"FunQuant-main.zip\") # once uploaded in colab path\n",
        "#install.packages(\\\"remotes\\\") # when released on CRAN\n",
        "\n",
        "install.packages(\"randtoolbox\")\n",
        "install.packages(\"evd\")\n",
        "install.packages(\"ggplot2\")\n",
        "install.packages(\"gridExtra\")"
      ]
    },
    {
      "cell_type": "code",
      "source": [
        "library(FunQuant)\n"
      ],
      "metadata": {
        "id": "4fwm8jl3MCgD"
      },
      "execution_count": null,
      "outputs": []
    }
  ]
}