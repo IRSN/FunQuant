{
  "nbformat": 4,
  "nbformat_minor": 0,
  "metadata": {
    "colab": {
      "provenance": [],
      "authorship_tag": "ABX9TyOtziyCuoqVGC6vzQJrTr90",
      "include_colab_link": true
    },
    "kernelspec": {
      "name": "ir",
      "display_name": "R"
    },
    "language_info": {
      "name": "R"
    }
  },
  "cells": [
    {
      "cell_type": "markdown",
      "metadata": {
        "id": "view-in-github",
        "colab_type": "text"
      },
      "source": [
        "<a href=\"https://colab.research.google.com/github/charliesire/FunQuant/blob/main/short_example.ipynb\" target=\"_parent\"><img src=\"https://colab.research.google.com/assets/colab-badge.svg\" alt=\"Open In Colab\"/></a>"
      ]
    },
    {
      "cell_type": "code",
      "source": [
        "#install.packages(\"remotes\")\n",
        "remotes::install_github(\"CharlieSire/FunQuant\")\n",
        "library(FunQuant)\n",
        "\n",
        "install.packages(\"randtoolbox\")\n",
        "library(randtoolbox)\n",
        "install.packages(\"evd\")\n",
        "library(evd)"
      ],
      "metadata": {
        "colab": {
          "base_uri": "https://localhost:8080/",
          "height": 411
        },
        "id": "eZHUdY-TBbTs",
        "outputId": "ab01865d-01fd-40e2-b6d5-1772456848bd"
      },
      "execution_count": 1,
      "outputs": [
        {
          "output_type": "error",
          "ename": "ERROR",
          "evalue": "ignored",
          "traceback": [
            "Error: Failed to install 'unknown package' from GitHub:\n  HTTP error 404.\n  Not Found\n\n  Did you spell the repo owner (`CharlieSire`) and repo name (`FunQuant`) correctly?\n  - If spelling is correct, check that you have the required permissions to access the repo.\nTraceback:\n",
            "1. remotes::install_github(\"CharlieSire/FunQuant\")",
            "2. install_remotes(remotes, auth_token = auth_token, host = host, \n .     dependencies = dependencies, upgrade = upgrade, force = force, \n .     quiet = quiet, build = build, build_opts = build_opts, build_manual = build_manual, \n .     build_vignettes = build_vignettes, repos = repos, type = type, \n .     ...)",
            "3. tryCatch(res[[i]] <- install_remote(remotes[[i]], ...), error = function(e) {\n .     stop(remote_install_error(remotes[[i]], e))\n . })",
            "4. tryCatchList(expr, classes, parentenv, handlers)",
            "5. tryCatchOne(expr, names, parentenv, handlers[[1L]])",
            "6. value[[3L]](cond)"
          ]
        }
      ]
    },
    {
      "cell_type": "markdown",
      "source": [
        "We will investigate the function $f(x) = sin(x_{1})*sin(x_{2})$\n",
        "\n",
        "We can introduce the design of experiments"
      ],
      "metadata": {
        "id": "4qw_fqb2BxCg"
      }
    },
    {
      "cell_type": "code",
      "source": [
        "design = as.data.frame(halton(400,2))*2-1\n",
        "outputs = apply(sin(design), 1, prod)"
      ],
      "metadata": {
        "id": "bMmnb2X5B1kD"
      },
      "execution_count": null,
      "outputs": []
    },
    {
      "cell_type": "markdown",
      "source": [
        "We can first perform quantization without considering the probabilistic distribution of the inputs. This is classical K-means quantization."
      ],
      "metadata": {
        "id": "QZ78ZrRpB41x"
      }
    },
    {
      "cell_type": "code",
      "source": [],
      "metadata": {
        "id": "B465g2U-B82m"
      },
      "execution_count": null,
      "outputs": []
    },
    {
      "cell_type": "code",
      "execution_count": null,
      "metadata": {
        "id": "DpY-zFSkBOgQ"
      },
      "outputs": [],
      "source": [
        "\n",
        "```{r}\n",
        "\n",
        "res_proto = proto_map_algo(nb_cells = 4, outputs = outputs, multistart = 6) \n",
        "\n",
        "res_proto\n",
        "```\n",
        "We can also consider the probabilistic distribution of the inputs. \n",
        "\n",
        "```{r}\n",
        "f2 = function(x){\n",
        "  res = 0\n",
        "  ptrunc = pgev(-1, loc=-0.4,scale=0.1) + 1 - pgev(1, loc=-0.4,scale=0.1)\n",
        "  if(x>=-1 & x < 1){res = dgev(x, loc=-0.4,scale=0.1)/(1-ptrunc)}\n",
        "  return(res)\n",
        "}\n",
        "f1 = function(x){\n",
        "  if(x > -1 & x < 1){return(1/2)}\n",
        "  else{return(0)}\n",
        "}\n",
        "fX = function(x){f1(x[1])*f2(x[2])}\n",
        "```\n",
        "\n",
        "The design of experiments is a sobol sequence that can be considered as a uniform distribution, which is often the case. \n",
        "\n",
        "```{r}\n",
        "g = function(x){\n",
        "  if(sum(x > -1) == length(x) & sum(x < 1) == length(x)){return(1/4)}\n",
        "  else{return(0)}\n",
        "}\n",
        "```\n",
        "\n",
        "Then we can perform a probabilistic quantization\n",
        "\n",
        "```{r}\n",
        "density_ratio = compute_density_ratio(f = fX, g = g, inputs = design)\n",
        "res_proto_2 = proto_map_algo(nb_cells = 4, outputs = outputs, multistart = 6,density_ratio = density_ratio) \n",
        "\n",
        "\n",
        "res_proto_2\n",
        "```\n"
      ]
    },
    {
      "cell_type": "code",
      "source": [],
      "metadata": {
        "id": "leqwqnkiBRC2"
      },
      "execution_count": null,
      "outputs": []
    }
  ]
}