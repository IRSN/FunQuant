{
  "nbformat": 4,
  "nbformat_minor": 0,
  "metadata": {
    "colab": {
      "provenance": []
    },
    "kernelspec": {
      "name": "ir",
      "display_name": "R"
    },
    "language_info": {
      "name": "R"
    }
  },
  "cells": [
  {
   "cell_type": "markdown",
   "id": "cdddd47f",
   "metadata": {},
   "source": [
    "---\n",
    "title: \"short_example\"\n",
    "output: rmarkdown::html_vignette\n",
    "vignette: >\n",
    "  %\\VignetteIndexEntry{short_example}\n",
    "  %\\VignetteEngine{knitr::rmarkdown}\n",
    "  %\\VignetteEncoding{UTF-8}\n",
    "---"
   ]
  },
  {
   "cell_type": "code",
   "execution_count": null,
   "id": "cfabac36",
   "metadata": {
    "attributes": {
     "": "",
     "classes": [],
     "id": ""
    }
   },
   "outputs": [],
   "source": [
    "knitr::opts_chunk$set(\n",
    "  collapse = TRUE,\n",
    "  comment = \"#>\",\n",
    "  fig.width=8, \n",
    "  fig.height=6\n",
    ")"
   ]
  },
  {
   "cell_type": "code",
   "execution_count": null,
   "id": "a6641c9f",
   "metadata": {},
   "outputs": [],
   "source": [
    "library(FunQuant)\n",
    "\n",
    "library(randtoolbox)\n",
    "library(ggplot2)\n",
    "library(evd)\n",
    "library(gridExtra)"
   ]
  },
  {
   "cell_type": "markdown",
   "id": "e9cfdc85",
   "metadata": {},
   "source": [
    "The main asset of the package is to perform probabilistic quantization of random outputs of any dimension. \n",
    "\n",
    "We define the spatial function we investigate here, taking as inputs a vector in $\\mathbb{R}^2$, and returning a map 20x20."
   ]
  },
  {
   "cell_type": "code",
   "execution_count": null,
   "id": "f03e31b3",
   "metadata": {},
   "outputs": [],
   "source": [
    "%%R\n",
    "func2D <- function(X){\n",
    "  Zgrid <- expand.grid(z1 = seq(-5,5,l=20),z2 = seq(-5,5,l=20))\n",
    "  n<-nrow(X)\n",
    "  Y <- lapply(1:n, function(i){(X[i,2] > -0.1)*X[i,2]*X[i,1]*exp(-((0.8*Zgrid$z1+0.2*Zgrid$z2-10*X[i,1])**2)/(60*X[i,1]**2))*(Zgrid$z1-Zgrid$z2)*cos(X[i,1]*4)^2*sin(X[i,2]*4)^2})\n",
    "  Ymaps<- array(unlist(Y),dim=c(20,20,n))\n",
    "  return(abs(Ymaps))\n",
    "}"
   ]
  },
  {
   "cell_type": "markdown",
   "id": "390612a5",
   "metadata": {},
   "source": [
    "We create a function to plot the spatial outputs"
   ]
  },
  {
   "cell_type": "code",
   "execution_count": null,
   "id": "904da5b2",
   "metadata": {},
   "outputs": [],
   "source": [
    "%%R\n",
    "plot_map = function(map, max = NULL, min = NULL){\n",
    "  gamma_toplot = expand.grid(seq(-5,5,l=20),seq(-5,5,l=20))\n",
    "  gamma_toplot$f = as.numeric(map)\n",
    "  if(is.null(max))\n",
    "  {p = ggplot(gamma_toplot) + geom_raster(aes(x = Var1, y = Var2, fill = f)) + scale_fill_continuous(type = \"viridis\",direction = -1, name = \"h\") + theme_bw()}\n",
    "  else{p = ggplot(gamma_toplot) + geom_raster(aes(x = Var1, y = Var2, fill = f)) + scale_fill_continuous(type = \"viridis\", direction = -1, limits = c(min, max), name = \"h\") + theme_bw()  + theme(legend.text = element_text(size=13),legend.title = element_text(size=13))}\n",
    "  return(p)\n",
    "}"
   ]
  },
  {
   "cell_type": "markdown",
   "id": "2166ecf6",
   "metadata": {},
   "source": [
    "We can introduce the design of experiments"
   ]
  },
  {
   "cell_type": "code",
   "execution_count": null,
   "id": "7247e2ed",
   "metadata": {},
   "outputs": [],
   "source": [
    "%%R\n",
    "design = as.data.frame(halton(400,2))*2-1\n",
    "outputs = func2D(design)"
   ]
  },
  {
   "cell_type": "markdown",
   "id": "f3dbc510",
   "metadata": {},
   "source": [
    "We can first perform quantization without considering the probabilistic distribution of the inputs. This is classical K-means quantization."
   ]
  },
  {
   "cell_type": "code",
   "execution_count": null,
   "id": "3a263aef",
   "metadata": {},
   "outputs": [],
   "source": [
    "%%R\n",
    "sum_depth = Vectorize(function(i){sum(outputs[,,i])})(1:dim(outputs)[3])\n",
    "gamma = lapply(1:5, function(i){outputs[,,which.min(abs(as.numeric(quantile(sum_depth,c(0,0.6,0.7,0.8,0.9))[i]) - sum_depth))[1]]}) #gamma will be the starting set of prototypes of the quantization. We choose an maps of only 0, and the maps with increasing sum of pixels\n",
    "\n",
    "res_proto_1 = proto_map_algo(gamma = gamma, outputs = outputs) \n",
    "\n",
    "list_plots_1 = list()\n",
    "for(i in 1:length(res_proto_1$gamma)){\n",
    "  list_plots_1[[i]] = plot_map(res_proto_1$gamma[[i]])\n",
    "}\n",
    "do.call(\"grid.arrange\", c(list_plots_1, ncol=2))\n"
   ]
  },
  {
   "cell_type": "markdown",
   "id": "8fb89117",
   "metadata": {},
   "source": [
    "We can also consider the probabilistic distribution of the inputs."
   ]
  },
  {
   "cell_type": "code",
   "execution_count": null,
   "id": "2325ebdd",
   "metadata": {},
   "outputs": [],
   "source": [
    "%%R\n",
    "f2 = function(x){\n",
    "  res = 0\n",
    "  ptrunc = pgev(-1, loc=-0.4,scale=0.1) + 1 - pgev(1, loc=-0.4,scale=0.1)\n",
    "  if(x>=-1 & x < 1){res = dgev(x, loc=-0.4,scale=0.1)/(1-ptrunc)}\n",
    "  return(res)\n",
    "}\n",
    "f1 = function(x){\n",
    "  if(x > -1 & x < 1){return(1/2)}\n",
    "  else{return(0)}\n",
    "}\n",
    "fX = function(x){f1(x[1])*f2(x[2])}"
   ]
  },
  {
   "cell_type": "markdown",
   "id": "f8823aa1",
   "metadata": {},
   "source": [
    "The design of experiments is a sobol sequence that can be considered as a uniform distribution, which is often the case."
   ]
  },
  {
   "cell_type": "code",
   "execution_count": null,
   "id": "bf20b6ba",
   "metadata": {},
   "outputs": [],
   "source": [
    "%%R\n",
    "g = function(x){\n",
    "  if(sum(x > -1) == length(x) & sum(x < 1) == length(x)){return(1/4)}\n",
    "  else{return(0)}\n",
    "}"
   ]
  },
  {
   "cell_type": "markdown",
   "id": "ff6bb8c5",
   "metadata": {},
   "source": [
    "Then we can perform a probabilistic quantization"
   ]
  },
  {
   "cell_type": "code",
   "execution_count": null,
   "id": "142103cc",
   "metadata": {},
   "outputs": [],
   "source": [
    "%%R\n",
    "density_ratio = compute_density_ratio(f = fX, g = g, inputs = design)\n",
    "res_proto_2 = proto_map_algo(gamma = gamma, outputs = outputs, density_ratio = density_ratio) \n",
    "\n",
    "list_plots_2 = list()\n",
    "for(i in 1:length(res_proto_2$gamma)){\n",
    "  list_plots_2[[i]] = plot_map(res_proto_2$gamma[[i]])\n",
    "}\n",
    "do.call(\"grid.arrange\", c(list_plots_2, ncol=2))\n",
    "\n",
    "print(res_proto_2$probas)"
   ]
  },
  {
   "cell_type": "markdown",
   "id": "0ed269e7",
   "metadata": {},
   "source": [
    "In order to reduce the variance of the estimators, it would be interesting the increase the size of the outputs sample. A metamodel could be introduce. The vignette \"long_example\" tackles this issue."
   ]
  }
 ],
 "metadata": {},
 "nbformat": 4,
 "nbformat_minor": 5
}
